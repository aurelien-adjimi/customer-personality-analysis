{
 "cells": [
  {
   "cell_type": "markdown",
   "metadata": {},
   "source": [
    "# Import des librairies et des données"
   ]
  },
  {
   "cell_type": "markdown",
   "metadata": {},
   "source": [
    "## Installation des librairies manquantes :\n",
    "```\n",
    "\n",
    "```"
   ]
  },
  {
   "cell_type": "code",
   "execution_count": null,
   "metadata": {},
   "outputs": [],
   "source": [
    "import seaborn as sns\n",
    "from matplotlib.colors import ListedColormap\n",
    "import warnings\n",
    "\n",
    "import numpy as np\n",
    "import matplotlib.pyplot as plt\n",
    "import plotly.express as px\n",
    "\n",
    "import plotly.graph_objects as go\n",
    "import pandas as pd\n",
    "from sklearn import metrics\n",
    "from sklearn.metrics import silhouette_score \n",
    "from sklearn.metrics import davies_bouldin_score, calinski_harabasz_score\n",
    "from sklearn.cluster import KMeans, DBSCAN, AgglomerativeClustering\n",
    "from sklearn.feature_selection import VarianceThreshold\n",
    "from sklearn.decomposition import PCA\n",
    "from sklearn.neighbors import NearestNeighbors\n",
    "\n",
    "from scipy.spatial.distance import cdist\n",
    "from scipy.cluster.hierarchy import dendrogram, linkage\n",
    "\n",
    "from statsmodels.stats.outliers_influence import variance_inflation_factor\n",
    "\n",
    "from yellowbrick.cluster import KElbowVisualizer\n",
    "\n",
    "from Kmeans import KMeans as KMeans_custom"
   ]
  },
  {
   "cell_type": "markdown",
   "metadata": {},
   "source": [
    "## Palette de couleurs"
   ]
  },
  {
   "cell_type": "code",
   "execution_count": null,
   "metadata": {},
   "outputs": [],
   "source": [
    "palette = sns.color_palette(\"rocket\")\n",
    "\n",
    "darker = palette[0]\n",
    "dark = palette[1]\n",
    "medium = palette[2]\n",
    "redish = palette[3]\n",
    "light = palette[4]\n",
    "lighter = palette[5]\n",
    "\n",
    "colors = ['green' if (i == 0 and j == 0) or (i == 1 and j == 1) else 'red' for i in range(2) for j in range(2)]\n",
    "cmap_cm = ListedColormap(colors)\n",
    "\n",
    "sns.set_style('darkgrid')\n",
    "\n",
    "cmap = sns.color_palette(\"rocket\", as_cmap=True)"
   ]
  },
  {
   "cell_type": "code",
   "execution_count": null,
   "metadata": {},
   "outputs": [],
   "source": [
    "df = pd.read_csv('CSV/marketing_campaign.csv', sep='\\t')"
   ]
  },
  {
   "cell_type": "markdown",
   "metadata": {},
   "source": [
    "# Analyse des données"
   ]
  },
  {
   "cell_type": "code",
   "execution_count": null,
   "metadata": {},
   "outputs": [],
   "source": [
    "numberOfRowsBefore = df.shape[0]\n",
    "print(f\"Le dataset contient {df.shape[0]} lignes et {df.shape[1]} colonnes.\")"
   ]
  },
  {
   "cell_type": "code",
   "execution_count": null,
   "metadata": {},
   "outputs": [],
   "source": [
    "df.describe()"
   ]
  },
  {
   "cell_type": "code",
   "execution_count": null,
   "metadata": {},
   "outputs": [],
   "source": [
    "df.drop('ID', axis=1, inplace=True)\n",
    "df.drop('Z_CostContact', axis=1, inplace=True)\n",
    "df.drop('Z_Revenue', axis=1, inplace=True)\n",
    "df.drop_duplicates(inplace=True)\n",
    "numberOfRowsAfter = df.shape[0]\n",
    "df.describe()"
   ]
  },
  {
   "cell_type": "code",
   "execution_count": null,
   "metadata": {},
   "outputs": [],
   "source": [
    "print(f\"Nous avons supprimé {numberOfRowsBefore - numberOfRowsAfter} lignes en doublon.\")"
   ]
  },
  {
   "cell_type": "code",
   "execution_count": null,
   "metadata": {},
   "outputs": [],
   "source": [
    "def naValues(df):\n",
    "    total = df.isnull().sum().sort_values(ascending=False)\n",
    "    percent = (df.isnull().sum() / df.isnull().count()).sort_values(ascending=False)\n",
    "    return pd.concat([total, percent], axis=1, keys=['Total', 'Pourcentage'])\n",
    "\n",
    "naValues(df)"
   ]
  },
  {
   "cell_type": "code",
   "execution_count": null,
   "metadata": {},
   "outputs": [],
   "source": [
    "df['Income'] = df['Income'].fillna(df['Income'].median())"
   ]
  },
  {
   "cell_type": "code",
   "execution_count": null,
   "metadata": {},
   "outputs": [],
   "source": [
    "df['Marital_Status'].unique()"
   ]
  },
  {
   "cell_type": "code",
   "execution_count": null,
   "metadata": {},
   "outputs": [],
   "source": [
    "df['Marital_Status'] = df['Marital_Status'].replace(['Alone', 'Absurd', 'YOLO', 'Divorced', 'Widow'], 'Single')\n",
    "df['Marital_Status'] = df['Marital_Status'].replace(['Married', 'Together'], 'In couple')"
   ]
  },
  {
   "cell_type": "code",
   "execution_count": null,
   "metadata": {},
   "outputs": [],
   "source": [
    "plt.figure(figsize=(10, 6))\n",
    "sns.countplot(x='Marital_Status', data=df, color=redish)\n",
    "plt.title('Répartition des clients en fonction de leur statut marital')\n",
    "plt.show()"
   ]
  },
  {
   "cell_type": "code",
   "execution_count": null,
   "metadata": {},
   "outputs": [],
   "source": [
    "df['Outcome'] = df['MntFishProducts'] + df['MntMeatProducts'] + df['MntSweetProducts'] + df['MntFruits'] + df['MntWines'] + df['MntGoldProds']\n",
    "\n",
    "df['Outcome'].head(10)"
   ]
  },
  {
   "cell_type": "code",
   "execution_count": null,
   "metadata": {},
   "outputs": [],
   "source": [
    "df['Education'] = df['Education'].replace(['Basic', 'Graduation', '2n Cycle', 'Master', 'PhD'], [0, 1, 2, 3, 4])"
   ]
  },
  {
   "cell_type": "code",
   "execution_count": null,
   "metadata": {},
   "outputs": [],
   "source": [
    "df['Education'].unique()"
   ]
  },
  {
   "cell_type": "code",
   "execution_count": null,
   "metadata": {},
   "outputs": [],
   "source": [
    "df['TotalAcceptedCmp'] = df['AcceptedCmp1'] + df['AcceptedCmp2'] + df['AcceptedCmp3'] + df['AcceptedCmp4'] + df['AcceptedCmp5']"
   ]
  },
  {
   "cell_type": "code",
   "execution_count": null,
   "metadata": {},
   "outputs": [],
   "source": [
    "plt.figure(figsize=(10, 6))\n",
    "sns.countplot(x='TotalAcceptedCmp', data=df, color=redish)\n",
    "plt.title('Nombre de campagnes acceptées par les clients')\n",
    "plt.show()"
   ]
  },
  {
   "cell_type": "code",
   "execution_count": null,
   "metadata": {},
   "outputs": [],
   "source": [
    "df['TotalPurchases'] = df['NumWebPurchases'] + df['NumCatalogPurchases'] + df['NumStorePurchases'] + df['NumDealsPurchases']"
   ]
  },
  {
   "cell_type": "code",
   "execution_count": null,
   "metadata": {},
   "outputs": [],
   "source": [
    "plt.figure(figsize=(10, 6))\n",
    "sns.countplot(x='TotalPurchases', data=df, color=redish)\n",
    "plt.title('Nombre total d\\'achats par les clients')\n",
    "plt.show()"
   ]
  },
  {
   "cell_type": "code",
   "execution_count": null,
   "metadata": {},
   "outputs": [],
   "source": [
    "df['Income'].plot(kind='hist', bins=50, color=dark, edgecolor='black', figsize=(10, 7))\n",
    "plt.title('Histogramme du revenu')\n",
    "plt.yscale('log')\n",
    "plt.xlabel('Revenu')\n",
    "plt.ylabel('Nombre de clients')\n",
    "plt.show()"
   ]
  },
  {
   "cell_type": "code",
   "execution_count": null,
   "metadata": {},
   "outputs": [],
   "source": [
    "dropCol = ['AcceptedCmp1', 'AcceptedCmp2', 'AcceptedCmp3', 'AcceptedCmp4', 'AcceptedCmp5']\n",
    "\n",
    "df.drop(dropCol, axis=1, inplace=True)"
   ]
  },
  {
   "cell_type": "markdown",
   "metadata": {},
   "source": [
    "<font color='blue'>**Observation :**</font>   \n",
    "Je remarque qu'il y a quelques données abérrantes dans la colonne `Revenue`, je choisis donc de les supprimer"
   ]
  },
  {
   "cell_type": "code",
   "execution_count": null,
   "metadata": {},
   "outputs": [],
   "source": [
    "df = df[df['Income'] <= 120000]\n",
    "numberOfRowsAfter = df.shape[0]\n",
    "\n",
    "df['Income'].plot(kind='hist', bins=50, color=dark, edgecolor='black', figsize=(10, 7))\n",
    "plt.title('Histogramme du revenu')\n",
    "plt.xlabel('Revenu')\n",
    "plt.ylabel('Nombre de clients')\n",
    "plt.show()"
   ]
  },
  {
   "cell_type": "markdown",
   "metadata": {},
   "source": [
    "<font color='blue'>**Observation :**</font>   \n",
    "On observe une bonne répartition du revenu des clients."
   ]
  },
  {
   "cell_type": "code",
   "execution_count": null,
   "metadata": {},
   "outputs": [],
   "source": [
    "df.describe()"
   ]
  },
  {
   "cell_type": "code",
   "execution_count": null,
   "metadata": {},
   "outputs": [],
   "source": [
    "df['TotalChildHome'] = df['Kidhome'] + df['Teenhome']\n",
    "plt.figure(figsize=(10, 7))\n",
    "sns.scatterplot(x='TotalChildHome', y='Income', data=df, color=dark)\n",
    "plt.title('Nombre d\\'enfants total à charge par revenu')\n",
    "plt.xlabel('Revenu')\n",
    "plt.ylabel('Nombre d\\'enfants total à charge')\n",
    "\n",
    "plt.show()"
   ]
  },
  {
   "cell_type": "markdown",
   "metadata": {},
   "source": [
    "<font color='blue'>**Observation :**</font>   \n",
    "On remarque que les foyers les plus modestes sont en général plus nombreux que les foyers les plus aisés."
   ]
  },
  {
   "cell_type": "code",
   "execution_count": null,
   "metadata": {},
   "outputs": [],
   "source": [
    "df['Parents'] = df['Marital_Status'].apply(lambda x: 2 if x == 'In couple' else 1)\n",
    "\n",
    "plt.figure(figsize=(10, 7))\n",
    "sns.scatterplot(x='Parents', y='Income', data=df, color=dark)\n",
    "plt.title('Nombre de parents par revenu')\n",
    "plt.xlabel('Revenu')\n",
    "plt.ylabel('Nombre de parents')\n",
    "\n",
    "plt.show()"
   ]
  },
  {
   "cell_type": "markdown",
   "metadata": {},
   "source": [
    "<font color='blue'>**Observation :**</font>   \n",
    "On remarque une bonne répartition des clients par rapport à leurs status marital et leurs revenus."
   ]
  },
  {
   "cell_type": "markdown",
   "metadata": {},
   "source": [
    "<font color='blue'>**Observation :**</font>   \n",
    "On remarque que la moyenne de revenu des clients diminue avec le nombre d'enfants (entre 0 et 2 enfants) puis augmente."
   ]
  },
  {
   "cell_type": "code",
   "execution_count": null,
   "metadata": {},
   "outputs": [],
   "source": [
    "plt.figure(figsize=(10, 7))\n",
    "sns.heatmap(df.groupby(['TotalChildHome', 'Parents'])['Outcome'].mean().unstack(), cmap=cmap, annot=True, fmt=\".0f\")\n",
    "plt.title('Dépense moyenne par nombre de parents et d\\'enfants à charge')\n",
    "plt.xlabel('Nombre de parents')\n",
    "plt.ylabel('Nombre d\\'enfants à charge')\n",
    "plt.show()"
   ]
  },
  {
   "cell_type": "markdown",
   "metadata": {},
   "source": [
    "<font color='blue'>**Observation :**</font>   \n",
    "On constate que les dépenses diminuent quand le nombre d'enfants augmente."
   ]
  },
  {
   "cell_type": "code",
   "execution_count": null,
   "metadata": {},
   "outputs": [],
   "source": [
    "plt.figure(figsize=(19, 10))\n",
    "plt.title('Matrice de corrélation')\n",
    "sns.heatmap(df.corr(numeric_only=True), annot=True, cmap=\"coolwarm\", fmt=\".2f\", cbar_kws={'label': 'Coefficient de corrélation'})\n",
    "plt.yticks(rotation=0)\n",
    "plt.xticks(rotation=60)\n",
    "plt.show()"
   ]
  },
  {
   "cell_type": "markdown",
   "metadata": {},
   "source": [
    "<span style=\"color:blue\">**Observation :**</span>   \n",
    "Forte corrélation entre le revenu, les dépenses et le total d'achat.   \n",
    "Forte corrélation négative entre le revenu et le nombre de visite.   \n",
    "Corrélation moyenne entre le nombre de campagne promotionnelle, le revenu, les dépenses et la réponse à la dernière campagne.   \n",
    "Corrélation moyenne positives entre le nombre d'enfants et le nombres de visites.   \n",
    "Corrélation moyenne négative entre le nombre d'enfants, revenu et dépenses.   "
   ]
  },
  {
   "cell_type": "markdown",
   "metadata": {},
   "source": [
    "<font color='red'>**Remarque :**</font>   \n",
    "La variable cible (y) est le nombre de produit vendu par types de clients.\n",
    "\n",
    "Le type de client (X) est défini par le revenu, le nombre d'enfants, le status marital, le nombre d'achat par moyens de communication."
   ]
  },
  {
   "cell_type": "code",
   "execution_count": null,
   "metadata": {},
   "outputs": [],
   "source": [
    "y = df[['MntWines', 'MntFruits', 'MntMeatProducts', 'MntFishProducts', 'MntSweetProducts', 'MntGoldProds']]\n",
    "\n",
    "X = df[['Year_Birth', 'Education', 'Income', 'Kidhome', 'Teenhome', 'Recency', 'NumDealsPurchases', 'NumWebPurchases', 'NumCatalogPurchases', 'NumStorePurchases', 'NumWebVisitsMonth', 'Complain', 'Response', 'Outcome', 'TotalAcceptedCmp', 'TotalPurchases', 'TotalChildHome', 'Parents']]"
   ]
  },
  {
   "cell_type": "markdown",
   "metadata": {},
   "source": [
    "# Réduction de dimension"
   ]
  },
  {
   "cell_type": "markdown",
   "metadata": {},
   "source": [
    "## Sélection de features"
   ]
  },
  {
   "cell_type": "markdown",
   "metadata": {},
   "source": [
    "Pour la sélection de features, il est possible d'utiliser plusieurs méthodes :\n",
    "\n",
    "- **Zéro ou presque zéro variance** : On supprime les features qui ont une variance très faible.\n",
    "\n",
    "- **Valeurs manquantes** : On supprime les features qui ont un pourcentage de valeurs manquantes très élevé.\n",
    "\n",
    "- **Multicollinéarité** : On supprime les features qui sont fortement corrélées entre elles."
   ]
  },
  {
   "cell_type": "markdown",
   "metadata": {},
   "source": [
    "### Zéro ou presque zéro variance:"
   ]
  },
  {
   "cell_type": "code",
   "execution_count": null,
   "metadata": {},
   "outputs": [],
   "source": [
    "sel = VarianceThreshold(threshold=0.05)\n",
    "\n",
    "X_selection = sel.fit_transform(X)\n",
    "\n",
    "print(f\"Nombre de colonnes avant la sélection : {X.shape[1]}\")\n",
    "print(f\"Nombre de colonnes après la sélection : {X_selection.shape[1]}\")\n",
    "\n",
    "for i in range(X.shape[1]):\n",
    "    if i not in sel.get_support(indices=True):\n",
    "        print(f\"Colonne {X.columns[i]} supprimée\")\n",
    "\n",
    "New_X = X.iloc[:, sel.get_support(indices=True)]"
   ]
  },
  {
   "cell_type": "markdown",
   "metadata": {},
   "source": [
    "### Multicolinéarité:"
   ]
  },
  {
   "cell_type": "markdown",
   "metadata": {},
   "source": [
    "On considère que les variables sont fortement corrélées si le coefficient de corrélation est supérieur à 10."
   ]
  },
  {
   "cell_type": "code",
   "execution_count": null,
   "metadata": {},
   "outputs": [],
   "source": [
    "vif_scores = [variance_inflation_factor(New_X.values, i) for i in range(New_X.shape[1])]\n",
    "\n",
    "print(\"VIF scores :\")\n",
    "for i, vif in enumerate(vif_scores):\n",
    "    print(f\"{New_X.columns[i]} : {vif}\")"
   ]
  },
  {
   "cell_type": "markdown",
   "metadata": {},
   "source": [
    "Suppression des variables Year_Birth et Income."
   ]
  },
  {
   "cell_type": "code",
   "execution_count": null,
   "metadata": {},
   "outputs": [],
   "source": [
    "New_X = df[['Education', 'Kidhome', 'Teenhome', 'Recency', 'NumDealsPurchases', 'NumWebPurchases', 'NumCatalogPurchases', 'NumStorePurchases', 'NumWebVisitsMonth', 'Response', 'Outcome', 'TotalAcceptedCmp', 'TotalPurchases', 'TotalChildHome', 'Parents']]\n",
    "\n",
    "vif_scores = [variance_inflation_factor(New_X.values, i) for i in range(New_X.shape[1])]\n",
    "\n",
    "print(\"VIF scores :\")\n",
    "for i, vif in enumerate(vif_scores):\n",
    "    print(f\"{New_X.columns[i]} : {vif}\")"
   ]
  },
  {
   "cell_type": "markdown",
   "metadata": {},
   "source": [
    "Suppression des variables Kidhome et Teenhome."
   ]
  },
  {
   "cell_type": "code",
   "execution_count": null,
   "metadata": {},
   "outputs": [],
   "source": [
    "New_X = df[['Education', 'Recency', 'NumDealsPurchases', 'NumWebPurchases', 'NumCatalogPurchases', 'NumStorePurchases', 'NumWebVisitsMonth', 'Response', 'Outcome', 'TotalAcceptedCmp', 'TotalChildHome', 'Parents']]\n",
    "\n",
    "vif_scores = [variance_inflation_factor(New_X.values, i) for i in range(New_X.shape[1])]\n",
    "\n",
    "print(\"VIF scores :\")\n",
    "for i, vif in enumerate(vif_scores):\n",
    "    print(f\"{New_X.columns[i]} : {vif}\")"
   ]
  },
  {
   "cell_type": "markdown",
   "metadata": {},
   "source": [
    "X final :"
   ]
  },
  {
   "cell_type": "code",
   "execution_count": null,
   "metadata": {},
   "outputs": [],
   "source": [
    "X = df[['Education', 'Recency', 'NumDealsPurchases', 'NumWebPurchases', 'NumCatalogPurchases', 'NumStorePurchases', 'NumWebVisitsMonth', 'Response', 'Outcome', 'TotalAcceptedCmp', 'TotalChildHome', 'Parents']]"
   ]
  },
  {
   "cell_type": "markdown",
   "metadata": {},
   "source": [
    "## Analyse Factorielle Multiple"
   ]
  },
  {
   "cell_type": "markdown",
   "metadata": {},
   "source": [
    "L'AFM est une méthode factorielle adaptée à l'étude des tableaux dans lesquels un ensemble d'individus est décris par un ensemble de variables (qualitatives et/ou quantitatives) structurées en groupes. Elle peut être vue comme une extension de:\n",
    "- l'ACP (Analyse en Composantes Principales) pour les données quantitatives,\n",
    "- l'ACM (Analyse des Correspondances Multiples) pour les données qualitatives,\n",
    "- l'AFDM (Analyse Factorielle des Données Mixtes) pour les données des deux types.\n",
    "\n",
    "Nous utilisons des données quantitatives, nous allons donc utiliser l'ACP."
   ]
  },
  {
   "cell_type": "markdown",
   "metadata": {},
   "source": [
    "Analyse en Composantes Principales (ACP) :"
   ]
  },
  {
   "cell_type": "code",
   "execution_count": null,
   "metadata": {},
   "outputs": [],
   "source": [
    "PCA = PCA(n_components=3)\n",
    "PCA.fit(X)\n",
    "X_PCA = PCA.transform(X)\n",
    "PCA_df = pd.DataFrame(data=X_PCA, columns=['PCA1', 'PCA2', 'PCA3'])\n",
    "\n",
    "PCA_df.describe()"
   ]
  },
  {
   "cell_type": "code",
   "execution_count": null,
   "metadata": {},
   "outputs": [],
   "source": [
    "fig = px.scatter_3d(PCA_df, x='PCA1', y='PCA2', z='PCA3', width=800, height=800, title='Projection 3D des composantes principales')\n",
    "fig.show()"
   ]
  },
  {
   "cell_type": "markdown",
   "metadata": {},
   "source": [
    "# Sélection du nombre de clusters"
   ]
  },
  {
   "cell_type": "markdown",
   "metadata": {},
   "source": [
    "## Méthode du coude :"
   ]
  },
  {
   "cell_type": "code",
   "execution_count": null,
   "metadata": {},
   "outputs": [],
   "source": [
    "Elbow_M = KElbowVisualizer(KMeans(), k=10)\n",
    "Elbow_M.fit(PCA_df)\n",
    "Elbow_M.title = 'Méthode du coude en fonction de la somme des carrés des distances et du temps d\\'exécution'\n",
    "Elbow_M.show()"
   ]
  },
  {
   "cell_type": "markdown",
   "metadata": {},
   "source": [
    "## Méthode de Silhouette :"
   ]
  },
  {
   "cell_type": "code",
   "execution_count": null,
   "metadata": {},
   "outputs": [],
   "source": [
    "silhouette_scores = []\n",
    "K = range(2, 11)\n",
    "\n",
    "for k in K:\n",
    "    cluster = KMeans(n_clusters=k)\n",
    "    cluster_labels = cluster.fit_predict(PCA_df)\n",
    "    \n",
    "    silhouette_scores.append(silhouette_score(PCA_df, cluster_labels))\n",
    "    silhouette_average = silhouette_score(PCA_df, cluster_labels)\n",
    "\n",
    "    print(\"Pour k clusters =\", k, \"La moyenne du score de silhouette est :\", silhouette_average)"
   ]
  },
  {
   "cell_type": "code",
   "execution_count": null,
   "metadata": {},
   "outputs": [],
   "source": [
    "fig, ax = plt.subplots(figsize=(10, 6))\n",
    "plt.plot(K, silhouette_scores)\n",
    "plt.xlabel('Valeurs de K')\n",
    "plt.ylabel('Score de silhouette')\n",
    "plt.title('Score de silhouette en fonction de K')\n",
    "plt.show()"
   ]
  },
  {
   "cell_type": "markdown",
   "metadata": {},
   "source": [
    "On sélectionne 4 clusters."
   ]
  },
  {
   "cell_type": "markdown",
   "metadata": {},
   "source": [
    "# K-means"
   ]
  },
  {
   "cell_type": "code",
   "execution_count": null,
   "metadata": {},
   "outputs": [],
   "source": [
    "kmeans = KMeans(n_clusters=4).fit(PCA_df)\n",
    "y_kmeans = kmeans.predict(PCA_df)\n",
    "\n",
    "fig = px.scatter_3d(PCA_df, x='PCA1', y='PCA2', z='PCA3', color=y_kmeans, width=800, height=800, title='Kmeans avec 4 clusters')\n",
    "fig.show()"
   ]
  },
  {
   "cell_type": "code",
   "execution_count": null,
   "metadata": {},
   "outputs": [],
   "source": [
    "fig = plt.figure(figsize=(10, 6))\n",
    "ax = fig.add_subplot(111, projection='3d')\n",
    "ax.scatter(PCA_df['PCA1'], PCA_df['PCA2'], PCA_df['PCA3'], c=y_kmeans, cmap='viridis')\n",
    "plt.title('Kmeans avec 4 clusters')\n",
    "plt.show()"
   ]
  },
  {
   "cell_type": "code",
   "execution_count": null,
   "metadata": {},
   "outputs": [],
   "source": [
    "silhouette_average_kmeans = silhouette_score(PCA_df, y_kmeans)\n",
    "print(\"La moyenne du score de silhouette est :\", silhouette_average_kmeans)"
   ]
  },
  {
   "cell_type": "markdown",
   "metadata": {},
   "source": [
    "<font color='blue'>**Observation :**</font>"
   ]
  },
  {
   "cell_type": "markdown",
   "metadata": {},
   "source": [
    "## Clustering Hiérarchique ascendant"
   ]
  },
  {
   "cell_type": "code",
   "execution_count": null,
   "metadata": {},
   "outputs": [],
   "source": [
    "ward_cluster = AgglomerativeClustering(n_clusters=4, linkage='ward')\n",
    "ward_labels = ward_cluster.fit_predict(PCA_df)\n",
    "\n",
    "fig = px.scatter_3d(PCA_df, x='PCA1', y='PCA2', z='PCA3', color=ward_labels, width=800, height=800, title='Agglomerative Clustering avec 4 clusters')\n",
    "fig.show()"
   ]
  },
  {
   "cell_type": "markdown",
   "metadata": {},
   "source": [
    "### Dendrogramme"
   ]
  },
  {
   "cell_type": "code",
   "execution_count": null,
   "metadata": {},
   "outputs": [],
   "source": [
    "dendrogram = dendrogram(linkage(PCA_df, method='ward'))\n",
    "plt.title('Dendrogramme')\n",
    "plt.gca().set_xticklabels([])\n",
    "plt.show()"
   ]
  },
  {
   "cell_type": "code",
   "execution_count": null,
   "metadata": {},
   "outputs": [],
   "source": [
    "silhouette_average_ach = silhouette_score(PCA_df, ward_labels)\n",
    "print(\"La moyenne du score de silhouette est :\", silhouette_average_ach)"
   ]
  },
  {
   "cell_type": "markdown",
   "metadata": {},
   "source": [
    "<font color='blue'>**Observation :**</font>\n",
    "\n",
    "On observe que la distance entre clusters est drastiquement réduite à partir de 4 clusters."
   ]
  },
  {
   "cell_type": "markdown",
   "metadata": {},
   "source": [
    "## Clustering DBSCAN"
   ]
  },
  {
   "cell_type": "markdown",
   "metadata": {},
   "source": [
    "Détermination des hyperparamètres :\n",
    "\n",
    "eps : distance maximale entre deux échantillons pour être considérés comme dans le même voisinage.\n",
    "\n",
    "MinPts : nombre minimal de points requis pour former un cluster. Doit être choisi en fonction du nombre de dimension des données."
   ]
  },
  {
   "cell_type": "code",
   "execution_count": null,
   "metadata": {},
   "outputs": [],
   "source": [
    "MinPts = 4"
   ]
  },
  {
   "cell_type": "code",
   "execution_count": null,
   "metadata": {},
   "outputs": [],
   "source": [
    "neighbors = NearestNeighbors(n_neighbors=MinPts)\n",
    "neighbors_fit = neighbors.fit(PCA_df)\n",
    "distances, indices = neighbors_fit.kneighbors(PCA_df)"
   ]
  },
  {
   "cell_type": "code",
   "execution_count": null,
   "metadata": {},
   "outputs": [],
   "source": [
    "distances = np.sort(distances, axis=0)\n",
    "distances = distances[:, 1]\n",
    "plt.figure(figsize=(10, 6))\n",
    "plt.title('Distance entre les points en fonction du nombre de voisins')\n",
    "plt.plot(distances)"
   ]
  },
  {
   "cell_type": "markdown",
   "metadata": {},
   "source": [
    "<font color='blue'>**Observation :**</font>\n",
    "\n",
    "Epsilon est déterminé par le coude de la courbe de distance.   \n",
    "Il est compris entre 10 et 15.\n",
    "Nous choisissons 12."
   ]
  },
  {
   "cell_type": "code",
   "execution_count": null,
   "metadata": {},
   "outputs": [],
   "source": [
    "eps = 12"
   ]
  },
  {
   "cell_type": "code",
   "execution_count": null,
   "metadata": {},
   "outputs": [],
   "source": [
    "Dbscan = DBSCAN(eps=eps, min_samples=MinPts)\n",
    "DBSCAN_labels = Dbscan.fit_predict(PCA_df)\n",
    "\n",
    "fig = px.scatter_3d(PCA_df, x='PCA1', y='PCA2', z='PCA3', color=DBSCAN_labels, width=800, height=800, title='DBSCAN avec eps=12 et MinPts=4')\n",
    "fig.show()"
   ]
  },
  {
   "cell_type": "code",
   "execution_count": null,
   "metadata": {},
   "outputs": [],
   "source": [
    "silhouette_average_Dbscan = silhouette_score(PCA_df, DBSCAN_labels)\n",
    "print(\"La moyenne du score de silhouette est :\", silhouette_average_Dbscan)"
   ]
  },
  {
   "cell_type": "markdown",
   "metadata": {},
   "source": [
    "<font color='red'>**Remarque :**</font>\n",
    "L'algorithme DBSCAN ne permet pas de séparer les données en 4 clusters.\n",
    "En effet, les données sont trop rapprochées pour pouvoir être séparées."
   ]
  },
  {
   "cell_type": "markdown",
   "metadata": {},
   "source": [
    "## Comparaison des résultats"
   ]
  },
  {
   "cell_type": "code",
   "execution_count": null,
   "metadata": {},
   "outputs": [],
   "source": [
    "print(\"Le score de silhouette de Kmeans est :\", silhouette_average_kmeans.round(2))\n",
    "print(\"Le score de silhouette de Agglomerative Clustering est :\", silhouette_average_ach.round(2))\n",
    "print(\"Le score de silhouette de DBSCAN est :\", silhouette_average_Dbscan.round(2))"
   ]
  },
  {
   "cell_type": "markdown",
   "metadata": {},
   "source": [
    "Le clustering hiérarchique ascendant et le K-means donnent des scores de silhouette quasiment similaires (63% - 61%) tandis que le DBSCAN donne un score beaucoup plus faible (8%).\n",
    "\n",
    "Ce qui peut être expliqué par le fait que le DBSCAN se base sur la densité des données pour les regrouper, or les données sont trop rapprochées pour être séparées."
   ]
  },
  {
   "cell_type": "markdown",
   "metadata": {},
   "source": [
    "# Profilage de la clientèle"
   ]
  },
  {
   "cell_type": "markdown",
   "metadata": {},
   "source": [
    "<font color='red'>**TODO :**</font>\n",
    "Prendre ses clusters, et plotter par rapport aux différentes variables afin de voir les différences entre les clusters."
   ]
  },
  {
   "cell_type": "code",
   "execution_count": null,
   "metadata": {},
   "outputs": [],
   "source": [
    "plt.title('y_kmeans par éducation')\n",
    "sns.boxplot(x=y_kmeans, y=df['Education'], palette='rocket')\n",
    "plt.show()"
   ]
  },
  {
   "cell_type": "code",
   "execution_count": null,
   "metadata": {},
   "outputs": [],
   "source": [
    "plt.title('y_kmeans par kidhome')\n",
    "sns.boxplot(x=y_kmeans, y=df['Kidhome'], palette='rocket')\n",
    "plt.show()"
   ]
  },
  {
   "cell_type": "code",
   "execution_count": null,
   "metadata": {},
   "outputs": [],
   "source": [
    "plt.title('y_kmeans par teenhome')\n",
    "sns.boxplot(x=y_kmeans, y=df['Teenhome'], palette='rocket')\n",
    "plt.show()"
   ]
  },
  {
   "cell_type": "code",
   "execution_count": null,
   "metadata": {},
   "outputs": [],
   "source": [
    "plt.title('y_kmeans par totalchildhome')\n",
    "sns.boxplot(x=y_kmeans, y=df['TotalChildHome'], palette='rocket')\n",
    "plt.show()"
   ]
  },
  {
   "cell_type": "code",
   "execution_count": null,
   "metadata": {},
   "outputs": [],
   "source": [
    "plt.title('y_kmeans par income')\n",
    "sns.boxplot(x=y_kmeans, y=df['Income'], palette='rocket')\n",
    "plt.show()"
   ]
  },
  {
   "cell_type": "code",
   "execution_count": null,
   "metadata": {},
   "outputs": [],
   "source": [
    "plt.title('y_kmeans par outcome')\n",
    "sns.boxplot(x=y_kmeans, y=df['Outcome'], palette='rocket')\n",
    "plt.show()"
   ]
  },
  {
   "cell_type": "markdown",
   "metadata": {},
   "source": [
    "Cluster 0: Plus nombreux (enfant + adolescent), revenus plus faible, dépense très faible.\n",
    "\n",
    "Cluster 1: Quasiment pas d'enfant, mais 1 ou 2 adolescents, revenue moyen - haut, dépense moyenne.\n",
    "\n",
    "Cluster 2: globalement 1 enfant ou 1 adolescent, revenu moyen, dépense moyenne - faible.\n",
    "\n",
    "Cluster 3: généralement pas d'enfant, revenu moyen - haut, dépense moyenne - hautte"
   ]
  }
 ],
 "metadata": {
  "kernelspec": {
   "display_name": "Python 3",
   "language": "python",
   "name": "python3"
  },
  "language_info": {
   "codemirror_mode": {
    "name": "ipython",
    "version": 3
   },
   "file_extension": ".py",
   "mimetype": "text/x-python",
   "name": "python",
   "nbconvert_exporter": "python",
   "pygments_lexer": "ipython3",
   "version": "3.12.2"
  }
 },
 "nbformat": 4,
 "nbformat_minor": 2
}
